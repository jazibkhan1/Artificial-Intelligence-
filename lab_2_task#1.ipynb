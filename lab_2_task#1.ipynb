{
 "cells": [
  {
   "cell_type": "code",
   "execution_count": null,
   "id": "67e6a8e9",
   "metadata": {},
   "outputs": [],
   "source": [
    "def check_temp_value(temp):\n",
    "    if (temp>0 && temp<45):\n",
    "        return 0\n",
    "    else\n",
    "    return 1 \n",
    "\n",
    "def check_smoke(val):\n",
    "    if(val==0):\n",
    "        print(\"No smoke detected\")\n",
    "        alarm=0\n",
    "        return val\n",
    "    \n",
    "    else if(smoke=1):\n",
    "        val=1\n",
    "        return val\n",
    "\n",
    "    \n",
    "        "
   ]
  },
  {
   "cell_type": "code",
   "execution_count": null,
   "id": "04faf5e5",
   "metadata": {},
   "outputs": [],
   "source": [
    "Percept = [\"smoke check\", \"temp check\"]\n",
    "State = [\"Smoke \", \"No smoke\", \"temp high\", \"temp normal\"]\n",
    "Rules = [\"If smoke, alarm & sprinkle\", \"If temp high, Alarm & call fire depart\"]\n",
    "\n"
   ]
  }
 ],
 "metadata": {
  "kernelspec": {
   "display_name": "Python 3 (ipykernel)",
   "language": "python",
   "name": "python3"
  },
  "language_info": {
   "codemirror_mode": {
    "name": "ipython",
    "version": 3
   },
   "file_extension": ".py",
   "mimetype": "text/x-python",
   "name": "python",
   "nbconvert_exporter": "python",
   "pygments_lexer": "ipython3",
   "version": "3.11.1"
  }
 },
 "nbformat": 4,
 "nbformat_minor": 5
}
